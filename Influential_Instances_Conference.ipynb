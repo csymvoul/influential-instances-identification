{
  "nbformat": 4,
  "nbformat_minor": 0,
  "metadata": {
    "colab": {
      "provenance": [],
      "toc_visible": true,
      "authorship_tag": "ABX9TyNXY9WR4EOpMdtpYtpHzZ04",
      "include_colab_link": true
    },
    "kernelspec": {
      "name": "python3",
      "display_name": "Python 3"
    },
    "language_info": {
      "name": "python"
    },
    "accelerator": "TPU",
    "gpuClass": "standard"
  },
  "cells": [
    {
      "cell_type": "markdown",
      "metadata": {
        "id": "view-in-github",
        "colab_type": "text"
      },
      "source": [
        "<a href=\"https://colab.research.google.com/github/csymvoul/influential-instances-identification/blob/main/Influential_Instances_Conference.ipynb\" target=\"_parent\"><img src=\"https://colab.research.google.com/assets/colab-badge.svg\" alt=\"Open In Colab\"/></a>"
      ]
    },
    {
      "cell_type": "markdown",
      "source": [
        "# Using Deletion Diagnostics for the identification of Influential Instances towards Causal-based learning\n",
        "\n",
        "\n",
        "The steps needed to train an AI model based on the influential instances are:\n",
        "\n",
        "1. Train the model on the original dataset\n",
        "2. Calculate the DFBETA and RMSE values for each instance: \n",
        " * $DFBETA_{i}=\\beta-\\beta^{-i}$, where $\\beta$ is the weight vector of the initial model that is trained with all instances and $\\beta^{-i}$ is the weight vector of the initial model that is trained without the $i$-th instance.\n",
        " * The $\\beta^{-i}$ is calculated by training the model on the dataset without the $i$-th instance.\n",
        " * $RMSE_i = \\sqrt{\\frac{1}{n} \\times \\sum_{j=1}^{n}{(y_j - \\hat{y_j})^2}}$, where {i} is the removed instance, $n$ is the number of instances, $y_j$ is the correct value $\\hat{y_j}$ is the predicted value.\n",
        "\n",
        "3. Once the $DFBETA$ and $RMSE$ values are calculated, the influential instances are the ones with the highest $DFBETA$ and lowest $RMSE$ values\n",
        "4. Then only the influential instances are kept from the original dataset\n",
        "5. Consequently, we apply the K-Means algorithm, where $K$ is equal to the number influential instances and we apply it to the excluded data of the original dataset\n",
        "6. The centroids of the K-Means algorithm are the influential instances\n",
        "7. We cluster the original dataset based on the centroids of the K-Means algorithm and we produce a new final dataset, which we use to re-train the model \n",
        "\n"
      ],
      "metadata": {
        "id": "RwoNHZ77j1Li"
      }
    },
    {
      "cell_type": "markdown",
      "source": [
        "## Import Libraries and connect to Google Drive"
      ],
      "metadata": {
        "id": "rzChTc1mjWsZ"
      }
    },
    {
      "cell_type": "markdown",
      "source": [
        "### Import Libraries "
      ],
      "metadata": {
        "id": "swmIgVQAjqXw"
      }
    },
    {
      "cell_type": "code",
      "execution_count": 1,
      "metadata": {
        "id": "aeFb648BjRVI"
      },
      "outputs": [],
      "source": [
        "import numpy as np\n",
        "import pandas as pd \n",
        "import tensorflow as tf"
      ]
    },
    {
      "cell_type": "code",
      "source": [
        "from sklearn.preprocessing import MinMaxScaler"
      ],
      "metadata": {
        "id": "hBieZ_qjs3Tp"
      },
      "execution_count": 2,
      "outputs": []
    },
    {
      "cell_type": "code",
      "source": [
        "import matplotlib.pyplot as plt\n",
        "import matplotlib as mpl"
      ],
      "metadata": {
        "id": "EHM_R811s5i9"
      },
      "execution_count": 3,
      "outputs": []
    },
    {
      "cell_type": "code",
      "source": [
        "from tensorflow.keras import Sequential\n",
        "from tensorflow.keras.layers import Flatten, MaxPooling3D, Flatten\n",
        "from tensorflow.keras.layers import LSTM, Dense, Dropout\n",
        "from tensorflow.keras.layers import Conv1D, Conv3D"
      ],
      "metadata": {
        "id": "5bYXBkKLs2FW"
      },
      "execution_count": 4,
      "outputs": []
    },
    {
      "cell_type": "code",
      "source": [
        "from math import sqrt\n",
        "from sklearn.metrics import mean_squared_error, r2_score"
      ],
      "metadata": {
        "id": "XB2TufBms0ly"
      },
      "execution_count": 5,
      "outputs": []
    },
    {
      "cell_type": "code",
      "source": [
        "!python -m pip install tslearn"
      ],
      "metadata": {
        "id": "WFSbQwScfTSu",
        "colab": {
          "base_uri": "https://localhost:8080/"
        },
        "outputId": "c183af29-a635-43ec-a31d-da4007b78632"
      },
      "execution_count": 6,
      "outputs": [
        {
          "output_type": "stream",
          "name": "stdout",
          "text": [
            "Looking in indexes: https://pypi.org/simple, https://us-python.pkg.dev/colab-wheels/public/simple/\n",
            "Collecting tslearn\n",
            "  Downloading tslearn-0.5.2-cp37-cp37m-manylinux_2_5_x86_64.manylinux1_x86_64.manylinux_2_12_x86_64.manylinux2010_x86_64.whl (793 kB)\n",
            "\u001b[K     |████████████████████████████████| 793 kB 5.1 MB/s \n",
            "\u001b[?25hRequirement already satisfied: Cython in /usr/local/lib/python3.7/dist-packages (from tslearn) (0.29.32)\n",
            "Requirement already satisfied: numpy in /usr/local/lib/python3.7/dist-packages (from tslearn) (1.21.6)\n",
            "Requirement already satisfied: joblib in /usr/local/lib/python3.7/dist-packages (from tslearn) (1.2.0)\n",
            "Requirement already satisfied: scikit-learn in /usr/local/lib/python3.7/dist-packages (from tslearn) (1.0.2)\n",
            "Requirement already satisfied: numba in /usr/local/lib/python3.7/dist-packages (from tslearn) (0.56.4)\n",
            "Requirement already satisfied: scipy in /usr/local/lib/python3.7/dist-packages (from tslearn) (1.7.3)\n",
            "Requirement already satisfied: setuptools in /usr/local/lib/python3.7/dist-packages (from numba->tslearn) (57.4.0)\n",
            "Requirement already satisfied: llvmlite<0.40,>=0.39.0dev0 in /usr/local/lib/python3.7/dist-packages (from numba->tslearn) (0.39.1)\n",
            "Requirement already satisfied: importlib-metadata in /usr/local/lib/python3.7/dist-packages (from numba->tslearn) (4.13.0)\n",
            "Requirement already satisfied: typing-extensions>=3.6.4 in /usr/local/lib/python3.7/dist-packages (from importlib-metadata->numba->tslearn) (4.1.1)\n",
            "Requirement already satisfied: zipp>=0.5 in /usr/local/lib/python3.7/dist-packages (from importlib-metadata->numba->tslearn) (3.10.0)\n",
            "Requirement already satisfied: threadpoolctl>=2.0.0 in /usr/local/lib/python3.7/dist-packages (from scikit-learn->tslearn) (3.1.0)\n",
            "Installing collected packages: tslearn\n",
            "Successfully installed tslearn-0.5.2\n"
          ]
        }
      ]
    },
    {
      "cell_type": "code",
      "source": [
        "from tslearn.metrics import dtw"
      ],
      "metadata": {
        "id": "yuseqhHefVcx"
      },
      "execution_count": 7,
      "outputs": []
    },
    {
      "cell_type": "markdown",
      "source": [
        "### Connect to Google Drive"
      ],
      "metadata": {
        "id": "sT1_a5MNjl-R"
      }
    },
    {
      "cell_type": "code",
      "source": [
        "from google.colab import drive\n",
        "drive.mount('/content/drive')"
      ],
      "metadata": {
        "id": "HofM_4WQjutb",
        "colab": {
          "base_uri": "https://localhost:8080/"
        },
        "outputId": "c7b2abd8-2f39-42d9-b3bb-b0efc32574a6"
      },
      "execution_count": 8,
      "outputs": [
        {
          "output_type": "stream",
          "name": "stdout",
          "text": [
            "Mounted at /content/drive\n"
          ]
        }
      ]
    },
    {
      "cell_type": "markdown",
      "source": [
        "## Download dataset"
      ],
      "metadata": {
        "id": "-8jZDNefo1f_"
      }
    },
    {
      "cell_type": "code",
      "source": [
        "url='https://raw.githubusercontent.com/jenfly/opsd/master/opsd_germany_daily.csv'\n",
        "data = pd.read_csv(url,sep=\",\")\n",
        "print(data)"
      ],
      "metadata": {
        "id": "TfctN8BBo5O0",
        "colab": {
          "base_uri": "https://localhost:8080/"
        },
        "outputId": "b522ab1a-9776-41a6-85b9-12affd14df89"
      },
      "execution_count": 9,
      "outputs": [
        {
          "output_type": "stream",
          "name": "stdout",
          "text": [
            "            Date  Consumption     Wind   Solar  Wind+Solar\n",
            "0     2006-01-01   1069.18400      NaN     NaN         NaN\n",
            "1     2006-01-02   1380.52100      NaN     NaN         NaN\n",
            "2     2006-01-03   1442.53300      NaN     NaN         NaN\n",
            "3     2006-01-04   1457.21700      NaN     NaN         NaN\n",
            "4     2006-01-05   1477.13100      NaN     NaN         NaN\n",
            "...          ...          ...      ...     ...         ...\n",
            "4378  2017-12-27   1263.94091  394.507  16.530     411.037\n",
            "4379  2017-12-28   1299.86398  506.424  14.162     520.586\n",
            "4380  2017-12-29   1295.08753  584.277  29.854     614.131\n",
            "4381  2017-12-30   1215.44897  721.247   7.467     728.714\n",
            "4382  2017-12-31   1107.11488  721.176  19.980     741.156\n",
            "\n",
            "[4383 rows x 5 columns]\n"
          ]
        }
      ]
    },
    {
      "cell_type": "markdown",
      "source": [
        "## Pre-processing"
      ],
      "metadata": {
        "id": "8DATolU5p5QV"
      }
    },
    {
      "cell_type": "code",
      "source": [
        "# Check if there exist any rows with 0 values \n",
        "\n",
        "print(data.loc[data['Consumption'] == 0])\n",
        "print(data.loc[data['Wind'] == 0])\n",
        "print(data.loc[data['Solar'] == 0])\n",
        "print(data.loc[data['Wind+Solar'] == 0])"
      ],
      "metadata": {
        "id": "XVlRWw6Kpdgs",
        "colab": {
          "base_uri": "https://localhost:8080/"
        },
        "outputId": "24442e88-984f-46ec-b7e7-53c0d179d66a"
      },
      "execution_count": 10,
      "outputs": [
        {
          "output_type": "stream",
          "name": "stdout",
          "text": [
            "Empty DataFrame\n",
            "Columns: [Date, Consumption, Wind, Solar, Wind+Solar]\n",
            "Index: []\n",
            "Empty DataFrame\n",
            "Columns: [Date, Consumption, Wind, Solar, Wind+Solar]\n",
            "Index: []\n",
            "Empty DataFrame\n",
            "Columns: [Date, Consumption, Wind, Solar, Wind+Solar]\n",
            "Index: []\n",
            "Empty DataFrame\n",
            "Columns: [Date, Consumption, Wind, Solar, Wind+Solar]\n",
            "Index: []\n"
          ]
        }
      ]
    },
    {
      "cell_type": "code",
      "source": [
        "# Use Date as the index \n",
        "data = data.set_index('Date')\n",
        "data.head()"
      ],
      "metadata": {
        "id": "QW-kZpV-p_eI",
        "colab": {
          "base_uri": "https://localhost:8080/",
          "height": 238
        },
        "outputId": "b4385aac-ea4d-4e89-a3e6-3d3ed0d9f6ef"
      },
      "execution_count": 11,
      "outputs": [
        {
          "output_type": "execute_result",
          "data": {
            "text/plain": [
              "            Consumption  Wind  Solar  Wind+Solar\n",
              "Date                                            \n",
              "2006-01-01     1069.184   NaN    NaN         NaN\n",
              "2006-01-02     1380.521   NaN    NaN         NaN\n",
              "2006-01-03     1442.533   NaN    NaN         NaN\n",
              "2006-01-04     1457.217   NaN    NaN         NaN\n",
              "2006-01-05     1477.131   NaN    NaN         NaN"
            ],
            "text/html": [
              "\n",
              "  <div id=\"df-d3716f58-90aa-4284-b05b-6e4f13c59bd2\">\n",
              "    <div class=\"colab-df-container\">\n",
              "      <div>\n",
              "<style scoped>\n",
              "    .dataframe tbody tr th:only-of-type {\n",
              "        vertical-align: middle;\n",
              "    }\n",
              "\n",
              "    .dataframe tbody tr th {\n",
              "        vertical-align: top;\n",
              "    }\n",
              "\n",
              "    .dataframe thead th {\n",
              "        text-align: right;\n",
              "    }\n",
              "</style>\n",
              "<table border=\"1\" class=\"dataframe\">\n",
              "  <thead>\n",
              "    <tr style=\"text-align: right;\">\n",
              "      <th></th>\n",
              "      <th>Consumption</th>\n",
              "      <th>Wind</th>\n",
              "      <th>Solar</th>\n",
              "      <th>Wind+Solar</th>\n",
              "    </tr>\n",
              "    <tr>\n",
              "      <th>Date</th>\n",
              "      <th></th>\n",
              "      <th></th>\n",
              "      <th></th>\n",
              "      <th></th>\n",
              "    </tr>\n",
              "  </thead>\n",
              "  <tbody>\n",
              "    <tr>\n",
              "      <th>2006-01-01</th>\n",
              "      <td>1069.184</td>\n",
              "      <td>NaN</td>\n",
              "      <td>NaN</td>\n",
              "      <td>NaN</td>\n",
              "    </tr>\n",
              "    <tr>\n",
              "      <th>2006-01-02</th>\n",
              "      <td>1380.521</td>\n",
              "      <td>NaN</td>\n",
              "      <td>NaN</td>\n",
              "      <td>NaN</td>\n",
              "    </tr>\n",
              "    <tr>\n",
              "      <th>2006-01-03</th>\n",
              "      <td>1442.533</td>\n",
              "      <td>NaN</td>\n",
              "      <td>NaN</td>\n",
              "      <td>NaN</td>\n",
              "    </tr>\n",
              "    <tr>\n",
              "      <th>2006-01-04</th>\n",
              "      <td>1457.217</td>\n",
              "      <td>NaN</td>\n",
              "      <td>NaN</td>\n",
              "      <td>NaN</td>\n",
              "    </tr>\n",
              "    <tr>\n",
              "      <th>2006-01-05</th>\n",
              "      <td>1477.131</td>\n",
              "      <td>NaN</td>\n",
              "      <td>NaN</td>\n",
              "      <td>NaN</td>\n",
              "    </tr>\n",
              "  </tbody>\n",
              "</table>\n",
              "</div>\n",
              "      <button class=\"colab-df-convert\" onclick=\"convertToInteractive('df-d3716f58-90aa-4284-b05b-6e4f13c59bd2')\"\n",
              "              title=\"Convert this dataframe to an interactive table.\"\n",
              "              style=\"display:none;\">\n",
              "        \n",
              "  <svg xmlns=\"http://www.w3.org/2000/svg\" height=\"24px\"viewBox=\"0 0 24 24\"\n",
              "       width=\"24px\">\n",
              "    <path d=\"M0 0h24v24H0V0z\" fill=\"none\"/>\n",
              "    <path d=\"M18.56 5.44l.94 2.06.94-2.06 2.06-.94-2.06-.94-.94-2.06-.94 2.06-2.06.94zm-11 1L8.5 8.5l.94-2.06 2.06-.94-2.06-.94L8.5 2.5l-.94 2.06-2.06.94zm10 10l.94 2.06.94-2.06 2.06-.94-2.06-.94-.94-2.06-.94 2.06-2.06.94z\"/><path d=\"M17.41 7.96l-1.37-1.37c-.4-.4-.92-.59-1.43-.59-.52 0-1.04.2-1.43.59L10.3 9.45l-7.72 7.72c-.78.78-.78 2.05 0 2.83L4 21.41c.39.39.9.59 1.41.59.51 0 1.02-.2 1.41-.59l7.78-7.78 2.81-2.81c.8-.78.8-2.07 0-2.86zM5.41 20L4 18.59l7.72-7.72 1.47 1.35L5.41 20z\"/>\n",
              "  </svg>\n",
              "      </button>\n",
              "      \n",
              "  <style>\n",
              "    .colab-df-container {\n",
              "      display:flex;\n",
              "      flex-wrap:wrap;\n",
              "      gap: 12px;\n",
              "    }\n",
              "\n",
              "    .colab-df-convert {\n",
              "      background-color: #E8F0FE;\n",
              "      border: none;\n",
              "      border-radius: 50%;\n",
              "      cursor: pointer;\n",
              "      display: none;\n",
              "      fill: #1967D2;\n",
              "      height: 32px;\n",
              "      padding: 0 0 0 0;\n",
              "      width: 32px;\n",
              "    }\n",
              "\n",
              "    .colab-df-convert:hover {\n",
              "      background-color: #E2EBFA;\n",
              "      box-shadow: 0px 1px 2px rgba(60, 64, 67, 0.3), 0px 1px 3px 1px rgba(60, 64, 67, 0.15);\n",
              "      fill: #174EA6;\n",
              "    }\n",
              "\n",
              "    [theme=dark] .colab-df-convert {\n",
              "      background-color: #3B4455;\n",
              "      fill: #D2E3FC;\n",
              "    }\n",
              "\n",
              "    [theme=dark] .colab-df-convert:hover {\n",
              "      background-color: #434B5C;\n",
              "      box-shadow: 0px 1px 3px 1px rgba(0, 0, 0, 0.15);\n",
              "      filter: drop-shadow(0px 1px 2px rgba(0, 0, 0, 0.3));\n",
              "      fill: #FFFFFF;\n",
              "    }\n",
              "  </style>\n",
              "\n",
              "      <script>\n",
              "        const buttonEl =\n",
              "          document.querySelector('#df-d3716f58-90aa-4284-b05b-6e4f13c59bd2 button.colab-df-convert');\n",
              "        buttonEl.style.display =\n",
              "          google.colab.kernel.accessAllowed ? 'block' : 'none';\n",
              "\n",
              "        async function convertToInteractive(key) {\n",
              "          const element = document.querySelector('#df-d3716f58-90aa-4284-b05b-6e4f13c59bd2');\n",
              "          const dataTable =\n",
              "            await google.colab.kernel.invokeFunction('convertToInteractive',\n",
              "                                                     [key], {});\n",
              "          if (!dataTable) return;\n",
              "\n",
              "          const docLinkHtml = 'Like what you see? Visit the ' +\n",
              "            '<a target=\"_blank\" href=https://colab.research.google.com/notebooks/data_table.ipynb>data table notebook</a>'\n",
              "            + ' to learn more about interactive tables.';\n",
              "          element.innerHTML = '';\n",
              "          dataTable['output_type'] = 'display_data';\n",
              "          await google.colab.output.renderOutput(dataTable, element);\n",
              "          const docLink = document.createElement('div');\n",
              "          docLink.innerHTML = docLinkHtml;\n",
              "          element.appendChild(docLink);\n",
              "        }\n",
              "      </script>\n",
              "    </div>\n",
              "  </div>\n",
              "  "
            ]
          },
          "metadata": {},
          "execution_count": 11
        }
      ]
    },
    {
      "cell_type": "code",
      "source": [
        "# Check number of NaNs \n",
        "data.isnull().sum()"
      ],
      "metadata": {
        "id": "rMdEOsbJqG27",
        "colab": {
          "base_uri": "https://localhost:8080/"
        },
        "outputId": "d5c52dc0-aa2c-45f6-bd7f-159e5c45e775"
      },
      "execution_count": 12,
      "outputs": [
        {
          "output_type": "execute_result",
          "data": {
            "text/plain": [
              "Consumption       0\n",
              "Wind           1463\n",
              "Solar          2195\n",
              "Wind+Solar     2196\n",
              "dtype: int64"
            ]
          },
          "metadata": {},
          "execution_count": 12
        }
      ]
    },
    {
      "cell_type": "code",
      "source": [
        "data_without_nan = data.fillna(0)"
      ],
      "metadata": {
        "id": "sknJNlTwqPDL"
      },
      "execution_count": 13,
      "outputs": []
    },
    {
      "cell_type": "code",
      "source": [
        "df = data_without_nan\n",
        "df.head()"
      ],
      "metadata": {
        "id": "9QtQMf-zqRnb",
        "colab": {
          "base_uri": "https://localhost:8080/",
          "height": 238
        },
        "outputId": "943e758b-d20e-4b5a-ca41-a1bc3ae723e9"
      },
      "execution_count": 14,
      "outputs": [
        {
          "output_type": "execute_result",
          "data": {
            "text/plain": [
              "            Consumption  Wind  Solar  Wind+Solar\n",
              "Date                                            \n",
              "2006-01-01     1069.184   0.0    0.0         0.0\n",
              "2006-01-02     1380.521   0.0    0.0         0.0\n",
              "2006-01-03     1442.533   0.0    0.0         0.0\n",
              "2006-01-04     1457.217   0.0    0.0         0.0\n",
              "2006-01-05     1477.131   0.0    0.0         0.0"
            ],
            "text/html": [
              "\n",
              "  <div id=\"df-477c8402-415d-48ba-9172-14a9ce62de79\">\n",
              "    <div class=\"colab-df-container\">\n",
              "      <div>\n",
              "<style scoped>\n",
              "    .dataframe tbody tr th:only-of-type {\n",
              "        vertical-align: middle;\n",
              "    }\n",
              "\n",
              "    .dataframe tbody tr th {\n",
              "        vertical-align: top;\n",
              "    }\n",
              "\n",
              "    .dataframe thead th {\n",
              "        text-align: right;\n",
              "    }\n",
              "</style>\n",
              "<table border=\"1\" class=\"dataframe\">\n",
              "  <thead>\n",
              "    <tr style=\"text-align: right;\">\n",
              "      <th></th>\n",
              "      <th>Consumption</th>\n",
              "      <th>Wind</th>\n",
              "      <th>Solar</th>\n",
              "      <th>Wind+Solar</th>\n",
              "    </tr>\n",
              "    <tr>\n",
              "      <th>Date</th>\n",
              "      <th></th>\n",
              "      <th></th>\n",
              "      <th></th>\n",
              "      <th></th>\n",
              "    </tr>\n",
              "  </thead>\n",
              "  <tbody>\n",
              "    <tr>\n",
              "      <th>2006-01-01</th>\n",
              "      <td>1069.184</td>\n",
              "      <td>0.0</td>\n",
              "      <td>0.0</td>\n",
              "      <td>0.0</td>\n",
              "    </tr>\n",
              "    <tr>\n",
              "      <th>2006-01-02</th>\n",
              "      <td>1380.521</td>\n",
              "      <td>0.0</td>\n",
              "      <td>0.0</td>\n",
              "      <td>0.0</td>\n",
              "    </tr>\n",
              "    <tr>\n",
              "      <th>2006-01-03</th>\n",
              "      <td>1442.533</td>\n",
              "      <td>0.0</td>\n",
              "      <td>0.0</td>\n",
              "      <td>0.0</td>\n",
              "    </tr>\n",
              "    <tr>\n",
              "      <th>2006-01-04</th>\n",
              "      <td>1457.217</td>\n",
              "      <td>0.0</td>\n",
              "      <td>0.0</td>\n",
              "      <td>0.0</td>\n",
              "    </tr>\n",
              "    <tr>\n",
              "      <th>2006-01-05</th>\n",
              "      <td>1477.131</td>\n",
              "      <td>0.0</td>\n",
              "      <td>0.0</td>\n",
              "      <td>0.0</td>\n",
              "    </tr>\n",
              "  </tbody>\n",
              "</table>\n",
              "</div>\n",
              "      <button class=\"colab-df-convert\" onclick=\"convertToInteractive('df-477c8402-415d-48ba-9172-14a9ce62de79')\"\n",
              "              title=\"Convert this dataframe to an interactive table.\"\n",
              "              style=\"display:none;\">\n",
              "        \n",
              "  <svg xmlns=\"http://www.w3.org/2000/svg\" height=\"24px\"viewBox=\"0 0 24 24\"\n",
              "       width=\"24px\">\n",
              "    <path d=\"M0 0h24v24H0V0z\" fill=\"none\"/>\n",
              "    <path d=\"M18.56 5.44l.94 2.06.94-2.06 2.06-.94-2.06-.94-.94-2.06-.94 2.06-2.06.94zm-11 1L8.5 8.5l.94-2.06 2.06-.94-2.06-.94L8.5 2.5l-.94 2.06-2.06.94zm10 10l.94 2.06.94-2.06 2.06-.94-2.06-.94-.94-2.06-.94 2.06-2.06.94z\"/><path d=\"M17.41 7.96l-1.37-1.37c-.4-.4-.92-.59-1.43-.59-.52 0-1.04.2-1.43.59L10.3 9.45l-7.72 7.72c-.78.78-.78 2.05 0 2.83L4 21.41c.39.39.9.59 1.41.59.51 0 1.02-.2 1.41-.59l7.78-7.78 2.81-2.81c.8-.78.8-2.07 0-2.86zM5.41 20L4 18.59l7.72-7.72 1.47 1.35L5.41 20z\"/>\n",
              "  </svg>\n",
              "      </button>\n",
              "      \n",
              "  <style>\n",
              "    .colab-df-container {\n",
              "      display:flex;\n",
              "      flex-wrap:wrap;\n",
              "      gap: 12px;\n",
              "    }\n",
              "\n",
              "    .colab-df-convert {\n",
              "      background-color: #E8F0FE;\n",
              "      border: none;\n",
              "      border-radius: 50%;\n",
              "      cursor: pointer;\n",
              "      display: none;\n",
              "      fill: #1967D2;\n",
              "      height: 32px;\n",
              "      padding: 0 0 0 0;\n",
              "      width: 32px;\n",
              "    }\n",
              "\n",
              "    .colab-df-convert:hover {\n",
              "      background-color: #E2EBFA;\n",
              "      box-shadow: 0px 1px 2px rgba(60, 64, 67, 0.3), 0px 1px 3px 1px rgba(60, 64, 67, 0.15);\n",
              "      fill: #174EA6;\n",
              "    }\n",
              "\n",
              "    [theme=dark] .colab-df-convert {\n",
              "      background-color: #3B4455;\n",
              "      fill: #D2E3FC;\n",
              "    }\n",
              "\n",
              "    [theme=dark] .colab-df-convert:hover {\n",
              "      background-color: #434B5C;\n",
              "      box-shadow: 0px 1px 3px 1px rgba(0, 0, 0, 0.15);\n",
              "      filter: drop-shadow(0px 1px 2px rgba(0, 0, 0, 0.3));\n",
              "      fill: #FFFFFF;\n",
              "    }\n",
              "  </style>\n",
              "\n",
              "      <script>\n",
              "        const buttonEl =\n",
              "          document.querySelector('#df-477c8402-415d-48ba-9172-14a9ce62de79 button.colab-df-convert');\n",
              "        buttonEl.style.display =\n",
              "          google.colab.kernel.accessAllowed ? 'block' : 'none';\n",
              "\n",
              "        async function convertToInteractive(key) {\n",
              "          const element = document.querySelector('#df-477c8402-415d-48ba-9172-14a9ce62de79');\n",
              "          const dataTable =\n",
              "            await google.colab.kernel.invokeFunction('convertToInteractive',\n",
              "                                                     [key], {});\n",
              "          if (!dataTable) return;\n",
              "\n",
              "          const docLinkHtml = 'Like what you see? Visit the ' +\n",
              "            '<a target=\"_blank\" href=https://colab.research.google.com/notebooks/data_table.ipynb>data table notebook</a>'\n",
              "            + ' to learn more about interactive tables.';\n",
              "          element.innerHTML = '';\n",
              "          dataTable['output_type'] = 'display_data';\n",
              "          await google.colab.output.renderOutput(dataTable, element);\n",
              "          const docLink = document.createElement('div');\n",
              "          docLink.innerHTML = docLinkHtml;\n",
              "          element.appendChild(docLink);\n",
              "        }\n",
              "      </script>\n",
              "    </div>\n",
              "  </div>\n",
              "  "
            ]
          },
          "metadata": {},
          "execution_count": 14
        }
      ]
    },
    {
      "cell_type": "markdown",
      "source": [
        "## LSTM Model "
      ],
      "metadata": {
        "id": "NqywKMOqqWay"
      }
    },
    {
      "cell_type": "markdown",
      "source": [
        "### Convert series to supervised"
      ],
      "metadata": {
        "id": "PFPC9vfdqbuy"
      }
    },
    {
      "cell_type": "code",
      "source": [
        "def series_to_supervised(data, n_in=1, n_out=1, dropnan=True):\n",
        "    if isinstance(data, list):\n",
        "        n_vars = 1\n",
        "    else:\n",
        "        n_vars = data.shape[1]\n",
        "    if isinstance(data, pd.DataFrame):\n",
        "        pass\n",
        "    else:\n",
        "        data = pd.DataFrame(data)\n",
        "    cols, names = list(), list()\n",
        "    print(n_vars)\n",
        "    # input sequence (t-n, ... t-1)\n",
        "    for i in range(n_in, 0, -1):\n",
        "        print(i)\n",
        "        cols.append(data.shift(i))\n",
        "        names += [('var%d(t-%d)' % (j+1, i)) for j in range(n_vars)]\n",
        "\n",
        "    # forecast sequence (t, t+1, ... t+n)\n",
        "    for i in range(0, n_out):\n",
        "        cols.append(data.shift(-i))\n",
        "        if i == 0:\n",
        "            names += [('var%d(t)' % (j+1)) for j in range(n_vars)]\n",
        "        else:\n",
        "            names += [('var%d(t+%d)' % (j+1, i)) for j in range(n_vars)]\n",
        "\n",
        "    # put it all together\n",
        "    agg = pd.concat(cols, axis=1)\n",
        "    agg.columns = names\n",
        "    #cols_to_use = names[:len(names) - (n_out)]\n",
        "    #agg = agg[cols_to_use]\n",
        "    # drop rows with NaN values\n",
        "    if dropnan:\n",
        "        agg.dropna(inplace=True)\n",
        "    return agg\n",
        "\n",
        "\n",
        "new_df = series_to_supervised(data,n_in= 1, n_out=1)"
      ],
      "metadata": {
        "id": "qmHcfosPqbD5",
        "colab": {
          "base_uri": "https://localhost:8080/"
        },
        "outputId": "9b20846c-7c5a-4338-a4fc-b707b2a5ae20"
      },
      "execution_count": 15,
      "outputs": [
        {
          "output_type": "stream",
          "name": "stdout",
          "text": [
            "4\n",
            "1\n"
          ]
        }
      ]
    },
    {
      "cell_type": "code",
      "source": [
        "print(new_df.head())"
      ],
      "metadata": {
        "id": "T1vHtttEqn60",
        "colab": {
          "base_uri": "https://localhost:8080/"
        },
        "outputId": "f8d5d44b-80a2-4ca6-efc4-5eb9d91ba324"
      },
      "execution_count": 16,
      "outputs": [
        {
          "output_type": "stream",
          "name": "stdout",
          "text": [
            "            var1(t-1)  var2(t-1)  var3(t-1)  var4(t-1)   var1(t)  var2(t)  \\\n",
            "Date                                                                        \n",
            "2012-01-02    948.128    227.465      6.587    234.052  1269.581  207.327   \n",
            "2012-01-03   1269.581    207.327      6.574    213.901  1334.745  473.468   \n",
            "2012-01-04   1334.745    473.468     24.679    498.147  1347.136  499.804   \n",
            "2012-01-05   1347.136    499.804     14.681    514.485  1376.658  523.851   \n",
            "2012-01-06   1376.658    523.851      5.071    528.922  1291.215  286.265   \n",
            "\n",
            "            var3(t)  var4(t)  \n",
            "Date                          \n",
            "2012-01-02    6.574  213.901  \n",
            "2012-01-03   24.679  498.147  \n",
            "2012-01-04   14.681  514.485  \n",
            "2012-01-05    5.071  528.922  \n",
            "2012-01-06   13.160  299.425  \n"
          ]
        }
      ]
    },
    {
      "cell_type": "markdown",
      "source": [
        "### Min Max scaler"
      ],
      "metadata": {
        "id": "AacGSsOHqqbK"
      }
    },
    {
      "cell_type": "code",
      "source": [
        "def Min_max_scal(data):\n",
        "\tarray = data.values\n",
        "\tvalues_ = array.astype('float32')\n",
        "\tscaler = MinMaxScaler(feature_range=(-1, 1))\n",
        "\tscaled = scaler.fit_transform(values_)\n",
        "\treturn scaled"
      ],
      "metadata": {
        "id": "hcGBr2wXqsD5"
      },
      "execution_count": 17,
      "outputs": []
    },
    {
      "cell_type": "code",
      "source": [
        "columns = new_df.columns\n",
        "scaled_np = Min_max_scal(new_df)\n",
        "scaled_df = pd.DataFrame(scaled_np, columns=[columns])\n",
        "\n",
        "scaled_df.head()"
      ],
      "metadata": {
        "id": "fVO29kaQquHL",
        "colab": {
          "base_uri": "https://localhost:8080/",
          "height": 206
        },
        "outputId": "f011b7b6-f889-45fb-b144-c15fbfcdacf7"
      },
      "execution_count": 18,
      "outputs": [
        {
          "output_type": "execute_result",
          "data": {
            "text/plain": [
              "  var1(t-1) var2(t-1) var3(t-1) var4(t-1)   var1(t)   var2(t)   var3(t)  \\\n",
              "0 -0.876496 -0.460935 -0.961446 -0.487822 -0.054549 -0.510066 -0.961555   \n",
              "1 -0.054549 -0.510066 -0.961555 -0.536374  0.112073  0.139243 -0.810435   \n",
              "2  0.112073  0.139243 -0.810435  0.148492  0.143757  0.203496 -0.893887   \n",
              "3  0.143757  0.203496 -0.893887  0.187857  0.219244  0.262164 -0.974100   \n",
              "4  0.219244  0.262164 -0.974100  0.222642  0.000768 -0.317479 -0.906582   \n",
              "\n",
              "    var4(t)  \n",
              "0 -0.536374  \n",
              "1  0.148492  \n",
              "2  0.187857  \n",
              "3  0.222642  \n",
              "4 -0.330311  "
            ],
            "text/html": [
              "\n",
              "  <div id=\"df-f69f5f88-bb5e-4ecd-a95f-a504fcfd94c0\">\n",
              "    <div class=\"colab-df-container\">\n",
              "      <div>\n",
              "<style scoped>\n",
              "    .dataframe tbody tr th:only-of-type {\n",
              "        vertical-align: middle;\n",
              "    }\n",
              "\n",
              "    .dataframe tbody tr th {\n",
              "        vertical-align: top;\n",
              "    }\n",
              "\n",
              "    .dataframe thead tr th {\n",
              "        text-align: left;\n",
              "    }\n",
              "</style>\n",
              "<table border=\"1\" class=\"dataframe\">\n",
              "  <thead>\n",
              "    <tr>\n",
              "      <th></th>\n",
              "      <th>var1(t-1)</th>\n",
              "      <th>var2(t-1)</th>\n",
              "      <th>var3(t-1)</th>\n",
              "      <th>var4(t-1)</th>\n",
              "      <th>var1(t)</th>\n",
              "      <th>var2(t)</th>\n",
              "      <th>var3(t)</th>\n",
              "      <th>var4(t)</th>\n",
              "    </tr>\n",
              "  </thead>\n",
              "  <tbody>\n",
              "    <tr>\n",
              "      <th>0</th>\n",
              "      <td>-0.876496</td>\n",
              "      <td>-0.460935</td>\n",
              "      <td>-0.961446</td>\n",
              "      <td>-0.487822</td>\n",
              "      <td>-0.054549</td>\n",
              "      <td>-0.510066</td>\n",
              "      <td>-0.961555</td>\n",
              "      <td>-0.536374</td>\n",
              "    </tr>\n",
              "    <tr>\n",
              "      <th>1</th>\n",
              "      <td>-0.054549</td>\n",
              "      <td>-0.510066</td>\n",
              "      <td>-0.961555</td>\n",
              "      <td>-0.536374</td>\n",
              "      <td>0.112073</td>\n",
              "      <td>0.139243</td>\n",
              "      <td>-0.810435</td>\n",
              "      <td>0.148492</td>\n",
              "    </tr>\n",
              "    <tr>\n",
              "      <th>2</th>\n",
              "      <td>0.112073</td>\n",
              "      <td>0.139243</td>\n",
              "      <td>-0.810435</td>\n",
              "      <td>0.148492</td>\n",
              "      <td>0.143757</td>\n",
              "      <td>0.203496</td>\n",
              "      <td>-0.893887</td>\n",
              "      <td>0.187857</td>\n",
              "    </tr>\n",
              "    <tr>\n",
              "      <th>3</th>\n",
              "      <td>0.143757</td>\n",
              "      <td>0.203496</td>\n",
              "      <td>-0.893887</td>\n",
              "      <td>0.187857</td>\n",
              "      <td>0.219244</td>\n",
              "      <td>0.262164</td>\n",
              "      <td>-0.974100</td>\n",
              "      <td>0.222642</td>\n",
              "    </tr>\n",
              "    <tr>\n",
              "      <th>4</th>\n",
              "      <td>0.219244</td>\n",
              "      <td>0.262164</td>\n",
              "      <td>-0.974100</td>\n",
              "      <td>0.222642</td>\n",
              "      <td>0.000768</td>\n",
              "      <td>-0.317479</td>\n",
              "      <td>-0.906582</td>\n",
              "      <td>-0.330311</td>\n",
              "    </tr>\n",
              "  </tbody>\n",
              "</table>\n",
              "</div>\n",
              "      <button class=\"colab-df-convert\" onclick=\"convertToInteractive('df-f69f5f88-bb5e-4ecd-a95f-a504fcfd94c0')\"\n",
              "              title=\"Convert this dataframe to an interactive table.\"\n",
              "              style=\"display:none;\">\n",
              "        \n",
              "  <svg xmlns=\"http://www.w3.org/2000/svg\" height=\"24px\"viewBox=\"0 0 24 24\"\n",
              "       width=\"24px\">\n",
              "    <path d=\"M0 0h24v24H0V0z\" fill=\"none\"/>\n",
              "    <path d=\"M18.56 5.44l.94 2.06.94-2.06 2.06-.94-2.06-.94-.94-2.06-.94 2.06-2.06.94zm-11 1L8.5 8.5l.94-2.06 2.06-.94-2.06-.94L8.5 2.5l-.94 2.06-2.06.94zm10 10l.94 2.06.94-2.06 2.06-.94-2.06-.94-.94-2.06-.94 2.06-2.06.94z\"/><path d=\"M17.41 7.96l-1.37-1.37c-.4-.4-.92-.59-1.43-.59-.52 0-1.04.2-1.43.59L10.3 9.45l-7.72 7.72c-.78.78-.78 2.05 0 2.83L4 21.41c.39.39.9.59 1.41.59.51 0 1.02-.2 1.41-.59l7.78-7.78 2.81-2.81c.8-.78.8-2.07 0-2.86zM5.41 20L4 18.59l7.72-7.72 1.47 1.35L5.41 20z\"/>\n",
              "  </svg>\n",
              "      </button>\n",
              "      \n",
              "  <style>\n",
              "    .colab-df-container {\n",
              "      display:flex;\n",
              "      flex-wrap:wrap;\n",
              "      gap: 12px;\n",
              "    }\n",
              "\n",
              "    .colab-df-convert {\n",
              "      background-color: #E8F0FE;\n",
              "      border: none;\n",
              "      border-radius: 50%;\n",
              "      cursor: pointer;\n",
              "      display: none;\n",
              "      fill: #1967D2;\n",
              "      height: 32px;\n",
              "      padding: 0 0 0 0;\n",
              "      width: 32px;\n",
              "    }\n",
              "\n",
              "    .colab-df-convert:hover {\n",
              "      background-color: #E2EBFA;\n",
              "      box-shadow: 0px 1px 2px rgba(60, 64, 67, 0.3), 0px 1px 3px 1px rgba(60, 64, 67, 0.15);\n",
              "      fill: #174EA6;\n",
              "    }\n",
              "\n",
              "    [theme=dark] .colab-df-convert {\n",
              "      background-color: #3B4455;\n",
              "      fill: #D2E3FC;\n",
              "    }\n",
              "\n",
              "    [theme=dark] .colab-df-convert:hover {\n",
              "      background-color: #434B5C;\n",
              "      box-shadow: 0px 1px 3px 1px rgba(0, 0, 0, 0.15);\n",
              "      filter: drop-shadow(0px 1px 2px rgba(0, 0, 0, 0.3));\n",
              "      fill: #FFFFFF;\n",
              "    }\n",
              "  </style>\n",
              "\n",
              "      <script>\n",
              "        const buttonEl =\n",
              "          document.querySelector('#df-f69f5f88-bb5e-4ecd-a95f-a504fcfd94c0 button.colab-df-convert');\n",
              "        buttonEl.style.display =\n",
              "          google.colab.kernel.accessAllowed ? 'block' : 'none';\n",
              "\n",
              "        async function convertToInteractive(key) {\n",
              "          const element = document.querySelector('#df-f69f5f88-bb5e-4ecd-a95f-a504fcfd94c0');\n",
              "          const dataTable =\n",
              "            await google.colab.kernel.invokeFunction('convertToInteractive',\n",
              "                                                     [key], {});\n",
              "          if (!dataTable) return;\n",
              "\n",
              "          const docLinkHtml = 'Like what you see? Visit the ' +\n",
              "            '<a target=\"_blank\" href=https://colab.research.google.com/notebooks/data_table.ipynb>data table notebook</a>'\n",
              "            + ' to learn more about interactive tables.';\n",
              "          element.innerHTML = '';\n",
              "          dataTable['output_type'] = 'display_data';\n",
              "          await google.colab.output.renderOutput(dataTable, element);\n",
              "          const docLink = document.createElement('div');\n",
              "          docLink.innerHTML = docLinkHtml;\n",
              "          element.appendChild(docLink);\n",
              "        }\n",
              "      </script>\n",
              "    </div>\n",
              "  </div>\n",
              "  "
            ]
          },
          "metadata": {},
          "execution_count": 18
        }
      ]
    },
    {
      "cell_type": "markdown",
      "source": [
        "### Split into train and test datasets"
      ],
      "metadata": {
        "id": "xSZUgxU0q6Rf"
      }
    },
    {
      "cell_type": "code",
      "source": [
        "def reshape_data_single_lag(reframed, train_percentage, test_percentage, valid_percentage):\n",
        "\t# split into train and test sets\n",
        "\tvalues = reframed.values\n",
        "\t# Sizes\n",
        "\ttrain_size = int(len(reframed) * train_percentage)\n",
        "\ttest_size = int(len(reframed) * test_percentage)\n",
        "\tvalid_size = int(len(reframed) * valid_percentage)\n",
        "\n",
        "\ttrain = values[:train_size]\n",
        "\ttest = values[train_size:train_size + test_size]\n",
        "\tval = values[train_size + test_size:]\n",
        "\n",
        "\t# split into input and outputs\n",
        "\ttrain_X, train_y = train[:, :-1], train[:, -1]\n",
        "\ttest_X, test_y = test[:, :-1], test[:, -1]\n",
        "\tval_X, val_y = val[:, :-1], val[:, -1]\n",
        "\t# print(train_X.shape)\n",
        "\n",
        "\t### this reshape below is we using it for univariate timeseries\n",
        "\t# reshape input to be 3D [samples, timesteps, features]\n",
        "\ttrain_X = train_X.reshape((train_X.shape[0], 1, train_X.shape[1]))\n",
        "\ttest_X = test_X.reshape((test_X.shape[0], 1, test_X.shape[1]))\n",
        "\tval_X = val_X.reshape((val_X.shape[0], 1, val_X.shape[1]))\n",
        "\n",
        "\tprint(train_X.shape, train_y.shape, test_X.shape, test_y.shape, val_X.shape, val_y.shape)\n",
        "\n",
        "\treturn train_X, train_y, test_X, test_y, val_X, val_y"
      ],
      "metadata": {
        "id": "5aTmA8Yxq-FB"
      },
      "execution_count": 19,
      "outputs": []
    },
    {
      "cell_type": "code",
      "source": [
        "scaled_df.shape"
      ],
      "metadata": {
        "colab": {
          "base_uri": "https://localhost:8080/"
        },
        "id": "UKBowSk3rBMp",
        "outputId": "3f7cda56-08b7-434d-a84a-f6dcdc27072b"
      },
      "execution_count": 20,
      "outputs": [
        {
          "output_type": "execute_result",
          "data": {
            "text/plain": [
              "(2183, 8)"
            ]
          },
          "metadata": {},
          "execution_count": 20
        }
      ]
    },
    {
      "cell_type": "code",
      "source": [
        "scaled_df1  = scaled_df[:1000]\n",
        "train_X, train_y, test_X, test_y, val_X, val_y = reshape_data_single_lag(scaled_df1,  0.65, 0.25, 0.10 )"
      ],
      "metadata": {
        "colab": {
          "base_uri": "https://localhost:8080/"
        },
        "id": "Pd9GpNinrJgz",
        "outputId": "7ffdd5aa-43ea-4e59-af3d-9c69f4379585"
      },
      "execution_count": 22,
      "outputs": [
        {
          "output_type": "stream",
          "name": "stdout",
          "text": [
            "(650, 1, 7) (650,) (250, 1, 7) (250,) (100, 1, 7) (100,)\n"
          ]
        }
      ]
    },
    {
      "cell_type": "code",
      "source": [
        "np.save('/content/drive/MyDrive/Colab Notebooks/influential_instances_conf/datasets/train_X.npy', train_X)\n",
        "np.save('/content/drive/MyDrive/Colab Notebooks/influential_instances_conf/datasets/train_y.npy', train_y)\n",
        "np.save('/content/drive/MyDrive/Colab Notebooks/influential_instances_conf/datasets/test_X.npy', test_X)\n",
        "np.save('/content/drive/MyDrive/Colab Notebooks/influential_instances_conf/datasets/test_y.npy', test_y)"
      ],
      "metadata": {
        "id": "tXXiexaSrNqa"
      },
      "execution_count": 23,
      "outputs": []
    },
    {
      "cell_type": "markdown",
      "source": [
        "### Train model"
      ],
      "metadata": {
        "id": "kotVHY_hr0HL"
      }
    },
    {
      "cell_type": "code",
      "source": [
        "def LSTM_model(train_X, train_y, test_X, test_y):\n",
        "    # design network\n",
        "    model = Sequential()\n",
        "    model.add(LSTM(90, return_sequences = True,  input_shape=(train_X.shape[1], train_X.shape[2])))  # 1 , 2\n",
        "    model.add(Dropout(0.75))\n",
        "    model.add(LSTM(70, return_sequences = True,  input_shape=(train_X.shape[1], train_X.shape[2])))  # 1 , 2\n",
        "    model.add(Dropout(0.75))\n",
        "    model.add(LSTM(50, return_sequences = True,  input_shape=(train_X.shape[1], train_X.shape[2])))  # 1 , 2\n",
        "    model.add(Dropout(0.50))\n",
        "    model.add(LSTM(30, return_sequences = True,  input_shape=(train_X.shape[1], train_X.shape[2])))  # 1 , 2\n",
        "    model.add(Dropout(0.50))\n",
        "    model.add(LSTM(10, return_sequences = False,  input_shape=(train_X.shape[1], train_X.shape[2])))  # 1 , 2\n",
        "    model.add(Dropout(0.10))\n",
        "    #model.add(LSTM(15, return_sequences = False ))\n",
        "    #model.add(Dropout(0.5))\n",
        "    #model.add(LSTM(30, return_sequences = False ))\n",
        "    #model.add(Dropout(0.2))\n",
        "    #model.add(LSTM(15, return_sequences = False ))\n",
        "    #model.add(Dense(50))\n",
        "    #model.add(Dropout(0.2))\n",
        "    model.add(Dense(1))\n",
        "    model.compile(loss='mse', optimizer='adam')\n",
        "    # fit network\n",
        "    model.fit(train_X, train_y, epochs=25, batch_size=8, validation_data=(test_X, test_y),verbose=2, shuffle=False)\n",
        "    return model"
      ],
      "metadata": {
        "id": "eP9YwBSRr1s3"
      },
      "execution_count": 24,
      "outputs": []
    },
    {
      "cell_type": "code",
      "source": [
        "model = LSTM_model(train_X, train_y, test_X, test_y)"
      ],
      "metadata": {
        "id": "QOQxNIrcr5qe",
        "colab": {
          "base_uri": "https://localhost:8080/"
        },
        "outputId": "e08c0a46-209a-445b-e719-a2df2b6482d5"
      },
      "execution_count": 25,
      "outputs": [
        {
          "output_type": "stream",
          "name": "stdout",
          "text": [
            "Epoch 1/25\n",
            "82/82 - 17s - loss: 0.2160 - val_loss: 0.0697 - 17s/epoch - 205ms/step\n",
            "Epoch 2/25\n",
            "82/82 - 1s - loss: 0.0555 - val_loss: 0.0592 - 829ms/epoch - 10ms/step\n",
            "Epoch 3/25\n",
            "82/82 - 1s - loss: 0.0486 - val_loss: 0.0593 - 833ms/epoch - 10ms/step\n",
            "Epoch 4/25\n",
            "82/82 - 1s - loss: 0.0429 - val_loss: 0.0574 - 833ms/epoch - 10ms/step\n",
            "Epoch 5/25\n",
            "82/82 - 1s - loss: 0.0451 - val_loss: 0.0525 - 870ms/epoch - 11ms/step\n",
            "Epoch 6/25\n",
            "82/82 - 1s - loss: 0.0392 - val_loss: 0.0489 - 846ms/epoch - 10ms/step\n",
            "Epoch 7/25\n",
            "82/82 - 1s - loss: 0.0324 - val_loss: 0.0452 - 770ms/epoch - 9ms/step\n",
            "Epoch 8/25\n",
            "82/82 - 1s - loss: 0.0327 - val_loss: 0.0347 - 818ms/epoch - 10ms/step\n",
            "Epoch 9/25\n",
            "82/82 - 1s - loss: 0.0272 - val_loss: 0.0235 - 838ms/epoch - 10ms/step\n",
            "Epoch 10/25\n",
            "82/82 - 1s - loss: 0.0211 - val_loss: 0.0132 - 861ms/epoch - 10ms/step\n",
            "Epoch 11/25\n",
            "82/82 - 1s - loss: 0.0180 - val_loss: 0.0089 - 850ms/epoch - 10ms/step\n",
            "Epoch 12/25\n",
            "82/82 - 1s - loss: 0.0148 - val_loss: 0.0047 - 848ms/epoch - 10ms/step\n",
            "Epoch 13/25\n",
            "82/82 - 1s - loss: 0.0154 - val_loss: 0.0053 - 817ms/epoch - 10ms/step\n",
            "Epoch 14/25\n",
            "82/82 - 1s - loss: 0.0126 - val_loss: 0.0046 - 878ms/epoch - 11ms/step\n",
            "Epoch 15/25\n",
            "82/82 - 1s - loss: 0.0096 - val_loss: 0.0038 - 842ms/epoch - 10ms/step\n",
            "Epoch 16/25\n",
            "82/82 - 1s - loss: 0.0109 - val_loss: 0.0035 - 773ms/epoch - 9ms/step\n",
            "Epoch 17/25\n",
            "82/82 - 1s - loss: 0.0102 - val_loss: 0.0037 - 783ms/epoch - 10ms/step\n",
            "Epoch 18/25\n",
            "82/82 - 1s - loss: 0.0100 - val_loss: 0.0033 - 774ms/epoch - 9ms/step\n",
            "Epoch 19/25\n",
            "82/82 - 1s - loss: 0.0101 - val_loss: 0.0033 - 801ms/epoch - 10ms/step\n",
            "Epoch 20/25\n",
            "82/82 - 1s - loss: 0.0092 - val_loss: 0.0032 - 1s/epoch - 14ms/step\n",
            "Epoch 21/25\n",
            "82/82 - 1s - loss: 0.0090 - val_loss: 0.0038 - 764ms/epoch - 9ms/step\n",
            "Epoch 22/25\n",
            "82/82 - 1s - loss: 0.0089 - val_loss: 0.0032 - 837ms/epoch - 10ms/step\n",
            "Epoch 23/25\n",
            "82/82 - 1s - loss: 0.0084 - val_loss: 0.0037 - 775ms/epoch - 9ms/step\n",
            "Epoch 24/25\n",
            "82/82 - 1s - loss: 0.0084 - val_loss: 0.0035 - 732ms/epoch - 9ms/step\n",
            "Epoch 25/25\n",
            "82/82 - 1s - loss: 0.0087 - val_loss: 0.0046 - 788ms/epoch - 10ms/step\n"
          ]
        }
      ]
    },
    {
      "cell_type": "markdown",
      "source": [
        "#### Model summary "
      ],
      "metadata": {
        "id": "PtpCnIltiZoM"
      }
    },
    {
      "cell_type": "code",
      "source": [
        "model.summary()"
      ],
      "metadata": {
        "id": "qKck1vRKr-jX",
        "colab": {
          "base_uri": "https://localhost:8080/"
        },
        "outputId": "f242b4b3-6a29-44ec-fa63-4140b723fec2"
      },
      "execution_count": 26,
      "outputs": [
        {
          "output_type": "stream",
          "name": "stdout",
          "text": [
            "Model: \"sequential\"\n",
            "_________________________________________________________________\n",
            " Layer (type)                Output Shape              Param #   \n",
            "=================================================================\n",
            " lstm (LSTM)                 (None, 1, 90)             35280     \n",
            "                                                                 \n",
            " dropout (Dropout)           (None, 1, 90)             0         \n",
            "                                                                 \n",
            " lstm_1 (LSTM)               (None, 1, 70)             45080     \n",
            "                                                                 \n",
            " dropout_1 (Dropout)         (None, 1, 70)             0         \n",
            "                                                                 \n",
            " lstm_2 (LSTM)               (None, 1, 50)             24200     \n",
            "                                                                 \n",
            " dropout_2 (Dropout)         (None, 1, 50)             0         \n",
            "                                                                 \n",
            " lstm_3 (LSTM)               (None, 1, 30)             9720      \n",
            "                                                                 \n",
            " dropout_3 (Dropout)         (None, 1, 30)             0         \n",
            "                                                                 \n",
            " lstm_4 (LSTM)               (None, 10)                1640      \n",
            "                                                                 \n",
            " dropout_4 (Dropout)         (None, 10)                0         \n",
            "                                                                 \n",
            " dense (Dense)               (None, 1)                 11        \n",
            "                                                                 \n",
            "=================================================================\n",
            "Total params: 115,931\n",
            "Trainable params: 115,931\n",
            "Non-trainable params: 0\n",
            "_________________________________________________________________\n"
          ]
        }
      ]
    },
    {
      "cell_type": "markdown",
      "source": [
        "#### Plot model loss"
      ],
      "metadata": {
        "id": "85lf4_uoib7_"
      }
    },
    {
      "cell_type": "code",
      "source": [
        "def plot_train_test_loss(model):\n",
        "    mpl.rcParams['figure.figsize'] = (12, 8)\n",
        "    mpl.rcParams['axes.grid'] = False\n",
        "    \n",
        "    # plot history\n",
        "    plt.plot(model.history.history['loss'], label='train')\n",
        "    plt.plot(model.history.history['val_loss'], label='test')\n",
        "    plt.legend()\n",
        "    plt.show()"
      ],
      "metadata": {
        "id": "Jz6HkZt6sCTy"
      },
      "execution_count": 27,
      "outputs": []
    },
    {
      "cell_type": "code",
      "source": [
        "plot_train_test_loss(model)"
      ],
      "metadata": {
        "id": "OeTsdQnFsHol",
        "colab": {
          "base_uri": "https://localhost:8080/",
          "height": 483
        },
        "outputId": "39f90719-8abb-489c-80f5-02797e23eb3b"
      },
      "execution_count": 28,
      "outputs": [
        {
          "output_type": "display_data",
          "data": {
            "text/plain": [
              "<Figure size 864x576 with 1 Axes>"
            ],
            "image/png": "[encoded data removed]"
          },
          "metadata": {
            "needs_background": "light"
          }
        }
      ]
    },
    {
      "cell_type": "markdown",
      "source": [
        "### Predictions and scores "
      ],
      "metadata": {
        "id": "Xk1quvoEssD3"
      }
    },
    {
      "cell_type": "code",
      "source": [
        "def predictions_and_scores_for_LSTM(model, test_X,test_y):\n",
        "\t# make a prediction\n",
        "\tyhat = model.predict(test_X)\n",
        "\t# test_X_reshaped = test_X.reshape((test_X.shape[0], 3*2))\n",
        "\tyhat_reshaped = yhat.reshape((yhat.shape[0], yhat.shape[1]))\n",
        "\n",
        "\ttest_y_reshaped = test_y.reshape((len(test_y), 1))\n",
        "\n",
        "\t# calculate RMSE and R2_score\n",
        "\trmse = sqrt(mean_squared_error(test_y_reshaped, yhat_reshaped))\n",
        "\tr2score = r2_score(test_y_reshaped, yhat_reshaped)\n",
        "\t\n",
        "\tprint('Test RMSE: %.3f' % rmse)\n",
        "\tprint('R2_score: %f' % r2score)\n",
        "\treturn rmse, r2score"
      ],
      "metadata": {
        "id": "qsrHa6JosuXM"
      },
      "execution_count": 29,
      "outputs": []
    },
    {
      "cell_type": "code",
      "source": [
        "predictions_and_scores_for_LSTM(model, test_X, test_y)"
      ],
      "metadata": {
        "id": "mx54m-dhs9nA",
        "colab": {
          "base_uri": "https://localhost:8080/"
        },
        "outputId": "e517818d-c787-4b09-906f-dc7b3afd32f3"
      },
      "execution_count": 30,
      "outputs": [
        {
          "output_type": "stream",
          "name": "stdout",
          "text": [
            "8/8 [==============================] - 2s 4ms/step\n",
            "Test RMSE: 0.068\n",
            "R2_score: 0.942207\n"
          ]
        },
        {
          "output_type": "execute_result",
          "data": {
            "text/plain": [
              "(0.06765374365672652, 0.9422072342410255)"
            ]
          },
          "metadata": {},
          "execution_count": 30
        }
      ]
    },
    {
      "cell_type": "markdown",
      "source": [
        "## Influential Instances identification"
      ],
      "metadata": {
        "id": "JX-BSMHpzQFG"
      }
    },
    {
      "cell_type": "code",
      "source": [
        "# The weights of the first model without deleting one or more instances\n",
        "initial_model_weights = model.get_weights()\n",
        "len(initial_model_weights)"
      ],
      "metadata": {
        "id": "awErCzekzUdG",
        "colab": {
          "base_uri": "https://localhost:8080/"
        },
        "outputId": "49470f95-7148-42dc-d734-dfc456743df0"
      },
      "execution_count": 31,
      "outputs": [
        {
          "output_type": "execute_result",
          "data": {
            "text/plain": [
              "17"
            ]
          },
          "metadata": {},
          "execution_count": 31
        }
      ]
    },
    {
      "cell_type": "markdown",
      "source": [
        "### Calculate $\\beta$, $RMSE$ and $R^2$"
      ],
      "metadata": {
        "id": "zoeOfMqAzdCh"
      }
    },
    {
      "cell_type": "code",
      "source": [
        "model_weights = []\n",
        "rmse = []\n",
        "r2score = []\n",
        "\n",
        "j = 0\n",
        "for index, i in enumerate(train_X):\n",
        "  train_X_without_i = np.delete(train_X, index, 0)\n",
        "  train_y_without_i = np.delete(train_y, index, 0)\n",
        "  model_without_i = LSTM_model(train_X_without_i, train_y_without_i, test_X, test_y)\n",
        "  rmse_without_i, r2score_without_i = predictions_and_scores_for_LSTM(model_without_i, train_X_without_i, train_y_without_i)\n",
        "  model_weights += model_without_i.get_weights()\n",
        "  rmse.append(rmse_without_i)\n",
        "  r2score.append(r2score_without_i)\n",
        "  j+=1\n",
        "  print(j)"
      ],
      "metadata": {
        "id": "HtTHd3Reznpu",
        "colab": {
          "base_uri": "https://localhost:8080/"
        },
        "outputId": "619d6d6d-eab5-41b0-c87d-30fceb5eed51"
      },
      "execution_count": null,
      "outputs": [
        {
          "output_type": "stream",
          "name": "stdout",
          "text": [
            "21/21 [==============================] - 2s 5ms/step\n",
            "Test RMSE: 0.035\n",
            "R2_score: 0.974912\n",
            "83\n",
            "Epoch 1/25\n",
            "82/82 - 13s - loss: 0.2264 - val_loss: 0.0671 - 13s/epoch - 156ms/step\n",
            "Epoch 2/25\n",
            "82/82 - 1s - loss: 0.0547 - val_loss: 0.0594 - 817ms/epoch - 10ms/step\n",
            "Epoch 3/25\n",
            "82/82 - 1s - loss: 0.0493 - val_loss: 0.0579 - 864ms/epoch - 11ms/step\n",
            "Epoch 4/25\n",
            "82/82 - 1s - loss: 0.0460 - val_loss: 0.0553 - 828ms/epoch - 10ms/step\n",
            "Epoch 5/25\n",
            "82/82 - 1s - loss: 0.0440 - val_loss: 0.0527 - 1s/epoch - 15ms/step\n",
            "Epoch 6/25\n",
            "82/82 - 2s - loss: 0.0407 - val_loss: 0.0490 - 2s/epoch - 19ms/step\n",
            "Epoch 7/25\n",
            "82/82 - 1s - loss: 0.0375 - val_loss: 0.0442 - 897ms/epoch - 11ms/step\n",
            "Epoch 8/25\n",
            "82/82 - 1s - loss: 0.0312 - val_loss: 0.0355 - 823ms/epoch - 10ms/step\n",
            "Epoch 9/25\n",
            "82/82 - 1s - loss: 0.0283 - val_loss: 0.0286 - 852ms/epoch - 10ms/step\n",
            "Epoch 10/25\n",
            "82/82 - 3s - loss: 0.0244 - val_loss: 0.0176 - 3s/epoch - 34ms/step\n",
            "Epoch 11/25\n",
            "82/82 - 1s - loss: 0.0192 - val_loss: 0.0103 - 866ms/epoch - 11ms/step\n",
            "Epoch 12/25\n",
            "82/82 - 1s - loss: 0.0171 - val_loss: 0.0074 - 824ms/epoch - 10ms/step\n",
            "Epoch 13/25\n",
            "82/82 - 1s - loss: 0.0147 - val_loss: 0.0053 - 942ms/epoch - 11ms/step\n",
            "Epoch 14/25\n",
            "82/82 - 1s - loss: 0.0140 - val_loss: 0.0045 - 959ms/epoch - 12ms/step\n",
            "Epoch 15/25\n",
            "82/82 - 1s - loss: 0.0111 - val_loss: 0.0038 - 864ms/epoch - 11ms/step\n",
            "Epoch 16/25\n",
            "82/82 - 1s - loss: 0.0129 - val_loss: 0.0045 - 960ms/epoch - 12ms/step\n",
            "Epoch 17/25\n",
            "82/82 - 1s - loss: 0.0118 - val_loss: 0.0044 - 918ms/epoch - 11ms/step\n",
            "Epoch 18/25\n",
            "82/82 - 1s - loss: 0.0106 - val_loss: 0.0036 - 924ms/epoch - 11ms/step\n",
            "Epoch 19/25\n",
            "82/82 - 1s - loss: 0.0094 - val_loss: 0.0036 - 872ms/epoch - 11ms/step\n",
            "Epoch 20/25\n",
            "82/82 - 1s - loss: 0.0102 - val_loss: 0.0038 - 891ms/epoch - 11ms/step\n",
            "Epoch 21/25\n",
            "82/82 - 1s - loss: 0.0089 - val_loss: 0.0029 - 922ms/epoch - 11ms/step\n",
            "Epoch 22/25\n",
            "82/82 - 1s - loss: 0.0081 - val_loss: 0.0035 - 857ms/epoch - 10ms/step\n",
            "Epoch 23/25\n"
          ]
        }
      ]
    },
    {
      "cell_type": "markdown",
      "source": [
        "### Store scores into files"
      ],
      "metadata": {
        "id": "xj5OFMJ4z540"
      }
    },
    {
      "cell_type": "code",
      "source": [
        "with open(\"/content/drive/MyDrive/Colab Notebooks/influential_instances_conf/results/r2_score_list.txt\", \"w\") as f:\n",
        "    for s in r2score:\n",
        "        f.write(str(s) +\"\\n\")\n",
        "\n",
        "\n",
        "with open(\"/content/drive/MyDrive/Colab Notebooks/influential_instances_conf/results/r2_score_list.txtrmse_list.txt\", \"w\") as f:\n",
        "    for s in rmse:\n",
        "        f.write(str(s) +\"\\n\")"
      ],
      "metadata": {
        "id": "nPiyFwn8zxfR"
      },
      "execution_count": null,
      "outputs": []
    },
    {
      "cell_type": "markdown",
      "source": [
        "### $DFBETA$ calculation"
      ],
      "metadata": {
        "id": "Wq2vJ2rw0XQe"
      }
    },
    {
      "cell_type": "code",
      "source": [
        "total_weights = int(len(model_weights)/len(initial_model_weights))\n",
        "count=0\n",
        "# print(len(model_weights))\n",
        "# print(len(initial_model_weights))\n",
        "\n",
        "# for i in range(0, 2):\n",
        "count = 0\n",
        "dfbeta_all = []\n",
        "dfbeta_sum = []\n",
        "for i in range(0, len(model_weights)):\n",
        "  dfbeta = np.subtract(initial_model_weights[i-count], model_weights[i])\n",
        "  dfbeta_all.append(dfbeta)\n",
        "  if (i % len(initial_model_weights)==0):\n",
        "    count+=len(initial_model_weights)\n",
        "    dfbeta_sum.append(np.sum(dfbeta))\n",
        "\n",
        "with open(\"/content/drive/MyDrive/Colab Notebooks/influential_instances_conf/results/dfbeta.csv\", \"w\") as f:\n",
        "    for s in dfbeta_sum:\n",
        "        f.write(str(s) +\"\\n\")\n",
        "\n",
        "\n",
        "dfbeta_sum_abs = np.abs(dfbeta_sum)\n",
        "dfbeta_sum = np.array(dfbeta_sum)"
      ],
      "metadata": {
        "id": "vhxfGI6t0b1e"
      },
      "execution_count": null,
      "outputs": []
    },
    {
      "cell_type": "code",
      "source": [
        "most_influential_instances_indices = []\n",
        "number_of_influential_instances = len(dfbeta_sum)\n",
        "for i in range(0, number_of_influential_instances):\n",
        "  most_influential_instances_indices.append(np.argmax(dfbeta_sum))\n",
        "  dfbeta_sum[np.argmax(dfbeta_sum)] = -1000\n",
        "\n",
        "most_influential_instances_indices"
      ],
      "metadata": {
        "id": "GQHln1Cv0h9H"
      },
      "execution_count": null,
      "outputs": []
    },
    {
      "cell_type": "code",
      "source": [
        "influential_instances = []\n",
        "for i in range(0, len(most_influential_instances_indices)):\n",
        "  influential_instances.append(scaled_df1.values.tolist())\n",
        "\n",
        "influential_instances"
      ],
      "metadata": {
        "id": "XBG-FKc_0lKZ"
      },
      "execution_count": null,
      "outputs": []
    },
    {
      "cell_type": "markdown",
      "source": [
        "### Sort instances according to $RMSE$"
      ],
      "metadata": {
        "id": "ryLe260Y0pQ6"
      }
    },
    {
      "cell_type": "code",
      "source": [
        "# Storing RMSE to a file \n",
        "rmse_np = np.array(rmse)\n",
        "\n",
        "np.savetxt(\"/content/drive/MyDrive/Colab Notebooks/influential_instances_conf/results/rmse.csv\", rmse_np, delimiter=\",\")"
      ],
      "metadata": {
        "id": "bB8-7nj800Fx"
      },
      "execution_count": null,
      "outputs": []
    },
    {
      "cell_type": "code",
      "source": [
        "rmse_np = np.array(rmse)\n",
        "least_rmse_indices = []\n",
        "for i in range(0, len(rmse)):\n",
        "  least_rmse_indices.append(np.argmin(rmse_np))\n",
        "  rmse_np[np.argmin(rmse_np)] = 99999\n",
        "\n",
        "least_rmse_indices"
      ],
      "metadata": {
        "id": "u9PQkQLp1HWU"
      },
      "execution_count": null,
      "outputs": []
    },
    {
      "cell_type": "markdown",
      "source": [
        "### Sort instances according to $R^2$"
      ],
      "metadata": {
        "id": "5jcOzGlz1IuI"
      }
    },
    {
      "cell_type": "code",
      "source": [
        "# Storing R2 to a file \n",
        "r2_score_np = np.array(r2_score)\n",
        "\n",
        "numpy.savetxt(\"/content/drive/MyDrive/Colab Notebooks/influential_instances_conf/results/r2_score.csv\", r2_score_np, delimiter=\",\")"
      ],
      "metadata": {
        "id": "mru3Os3G1Mke"
      },
      "execution_count": null,
      "outputs": []
    },
    {
      "cell_type": "code",
      "source": [
        "r2score_np = np.array(r2score)\n",
        "highest_r2score_indices = []\n",
        "for i in range(0, len(r2score)):\n",
        "  highest_r2score_indices.append(np.argmax(r2score_np))\n",
        "  r2score_np[np.argmax(r2score_np)] = -100\n",
        "\n",
        "highest_r2score_indices"
      ],
      "metadata": {
        "id": "heJLkbh51ReA"
      },
      "execution_count": null,
      "outputs": []
    },
    {
      "cell_type": "markdown",
      "source": [
        "### Merge $RMSE$, $R^2$, and $DFBETA$ to one dataframe"
      ],
      "metadata": {
        "id": "bhhRz3ul1UoT"
      }
    },
    {
      "cell_type": "code",
      "source": [
        "metrics = np.column_stack([most_influential_instances_indices, least_rmse_indices, highest_r2score_indices])\n",
        "metrics_df = pd.DataFrame(metrics)\n",
        "\n",
        "from google.colab import files\n",
        "metrics_df.to_csv('/content/drive/MyDrive/Colab Notebooks/influential_instances_conf/results/metrics.csv')\n",
        "files.download('/content/drive/MyDrive/Colab Notebooks/influential_instances_conf/results/metrics.csv')"
      ],
      "metadata": {
        "id": "TtXilJvH1cjg"
      },
      "execution_count": null,
      "outputs": []
    },
    {
      "cell_type": "markdown",
      "source": [
        "#### Store metrics to csv files"
      ],
      "metadata": {
        "id": "Xsn1wfVq2QnH"
      }
    },
    {
      "cell_type": "code",
      "source": [
        "r2score_df =  pd.DataFrame(r2score)\n",
        "\n",
        "from google.colab import files\n",
        "r2score_df.to_csv('r2score.csv')\n",
        "files.download('/content/drive/MyDrive/Colab Notebooks/influential_instances_conf/results/r2score.csv')"
      ],
      "metadata": {
        "id": "303J0i8o2Tqx"
      },
      "execution_count": null,
      "outputs": []
    },
    {
      "cell_type": "code",
      "source": [
        "rmse_df =  pd.DataFrame(rmse)\n",
        "\n",
        "from google.colab import files\n",
        "rmse_df.to_csv('rmse.csv')\n",
        "files.download('rmse.csv')"
      ],
      "metadata": {
        "id": "c_2A98qL2dEs"
      },
      "execution_count": null,
      "outputs": []
    },
    {
      "cell_type": "code",
      "source": [
        "model_weights_df = pd.DataFrame(model_weights)\n",
        "\n",
        "from google.colab import files\n",
        "model_weights_df.to_csv('model_weights.csv')\n",
        "files.download('model_weights.csv')"
      ],
      "metadata": {
        "id": "YTgz7uQo2feM"
      },
      "execution_count": null,
      "outputs": []
    },
    {
      "cell_type": "markdown",
      "source": [
        "### Creating a DataFrame with $DFBETA$, and $RMSE$\n",
        "\n"
      ],
      "metadata": {
        "id": "9p8q2g7-dkYo"
      }
    },
    {
      "cell_type": "code",
      "source": [
        "dfbeta = np.genfromtxt('/content/drive/MyDrive/Colab Notebooks/influential_instances_conf/results/dfbeta.csv', delimiter=',')\n",
        "rmse = np.genfromtxt('/content/drive/MyDrive/Colab Notebooks/influential_instances_conf/results/rmse_list.txt', delimiter=',')\n",
        "r2_score = np.genfromtxt('/content/drive/MyDrive/Colab Notebooks/influential_instances_conf/results/r2_score_list.txt', delimiter=',')"
      ],
      "metadata": {
        "id": "rhkdozdNeaZ9"
      },
      "execution_count": null,
      "outputs": []
    },
    {
      "cell_type": "code",
      "source": [
        "metrics_df = pd.DataFrame()\n",
        "metrics_df['rmse'] = rmse.tolist()\n",
        "metrics_df['dfbeta'] = dfbeta.tolist()\n",
        "metrics_df['dfbeta_abs'] = abs(metrics_df['dfbeta'])\n",
        "metrics_df"
      ],
      "metadata": {
        "id": "bJ9DGLiseVVK"
      },
      "execution_count": null,
      "outputs": []
    },
    {
      "cell_type": "code",
      "source": [
        "dfbeta_accepted_value = dfbeta.std()+dfbeta.mean()\n",
        "rmse_accepted_value = rmse.std()+rmse.mean()\n",
        "\n",
        "filtered_metrics_df = metrics_df[\n",
        "                           (metrics_df['dfbeta_abs'] > dfbeta_accepted_value) & (metrics_df['rmse'] > rmse_accepted_value)\n",
        "                        ]\n",
        "print(f\"Number of identified Influential Instances: {len(filtered_metrics_df)}\")\n",
        "filtered_metrics_df.head()"
      ],
      "metadata": {
        "id": "6tcIk8hSfE3g"
      },
      "execution_count": null,
      "outputs": []
    },
    {
      "cell_type": "markdown",
      "source": [
        "#### Getting indices of Influential Instances"
      ],
      "metadata": {
        "id": "2pGMxovwfJRO"
      }
    },
    {
      "cell_type": "code",
      "source": [
        "indices_of_influential_instances = filtered_metrics_df.index\n",
        "indices_of_influential_instances.tolist()"
      ],
      "metadata": {
        "id": "xAZbBEl8fNdn"
      },
      "execution_count": null,
      "outputs": []
    },
    {
      "cell_type": "code",
      "source": [
        "influential_instances = np.array(train_X)[indices_of_influential_instances]"
      ],
      "metadata": {
        "id": "OYl6YNQSfQIr"
      },
      "execution_count": null,
      "outputs": []
    },
    {
      "cell_type": "markdown",
      "source": [
        "### Calculating distances using the Dynamic Time Warping Matching metric"
      ],
      "metadata": {
        "id": "FMisTA0efg_U"
      }
    },
    {
      "cell_type": "code",
      "source": [
        "dtw_distance = []\n",
        "\n",
        "for index, instance in enumerate(train_X):\n",
        "    for index1, instance1 in enumerate(train_X):\n",
        "        dtw_distance.append(dtw(instance, instance1))"
      ],
      "metadata": {
        "id": "FWvAak88fpfr"
      },
      "execution_count": null,
      "outputs": []
    },
    {
      "cell_type": "code",
      "source": [
        "indices_of_influential_instances = indices_of_influential_instances.tolist()\n",
        "indices_of_influential_instances"
      ],
      "metadata": {
        "id": "YYqrp-SVftnb"
      },
      "execution_count": null,
      "outputs": []
    },
    {
      "cell_type": "code",
      "source": [
        "threshold_distance = 0.3*np.mean(dtw_distance)+0.1*np.std(dtw_distance)\n",
        "print(f'{threshold_distance}')\n",
        "\n",
        "newly_identified_influential_instances = []\n",
        "for ii_index, influential_instance in enumerate(influential_instances):\n",
        "    for i_index, instance in enumerate(train_X):\n",
        "        distance = dtw(influential_instance, instance)\n",
        "\n",
        "        if (distance <= threshold_distance and distance != 0 and i_index not in newly_identified_influential_instances):\n",
        "            newly_identified_influential_instances.append(i_index)\n",
        "            indices_of_influential_instances.append(i_index)"
      ],
      "metadata": {
        "id": "aMPfpHt8fvrV"
      },
      "execution_count": null,
      "outputs": []
    },
    {
      "cell_type": "code",
      "source": [
        "indices_of_influential_instances_without_duplicates = list(dict.fromkeys(indices_of_influential_instances))\n",
        "len(indices_of_influential_instances_without_duplicates)"
      ],
      "metadata": {
        "id": "O3B_FhN1f24G"
      },
      "execution_count": null,
      "outputs": []
    },
    {
      "cell_type": "markdown",
      "source": [
        "### Creating dataset that only includes influential instances"
      ],
      "metadata": {
        "id": "AlbwUdBvfrx0"
      }
    },
    {
      "cell_type": "code",
      "source": [
        "influential_instances_X = np.array(train_X)[indices_of_influential_instances_without_duplicates]\n",
        "influential_instances_y = np.array(train_y)[indices_of_influential_instances_without_duplicates]"
      ],
      "metadata": {
        "id": "E7roDc6Wf5Pj"
      },
      "execution_count": null,
      "outputs": []
    },
    {
      "cell_type": "markdown",
      "source": [
        "#### Storing new dataset"
      ],
      "metadata": {
        "id": "Cw2JLl9SgANR"
      }
    },
    {
      "cell_type": "code",
      "source": [
        "np.save('/content/drive/MyDrive/Colab Notebooks/influential_instances_conf/datasets/influential_instances_train_X.npy', influential_instances_X)\n",
        "np.save('/content/drive/MyDrive/Colab Notebooks/influential_instances_conf/datasets/influential_instances_train_y.npy', influential_instances_y)"
      ],
      "metadata": {
        "id": "Z5571g2Pf-zH"
      },
      "execution_count": null,
      "outputs": []
    },
    {
      "cell_type": "markdown",
      "source": [
        "### Re-train LSTM model with new influential instances dataset"
      ],
      "metadata": {
        "id": "QkPQHz3QgOv_"
      }
    },
    {
      "cell_type": "markdown",
      "source": [
        "#### Retrieving train and test sets"
      ],
      "metadata": {
        "id": "k5ISWRoRhPC0"
      }
    },
    {
      "cell_type": "code",
      "source": [
        "train_X = np.load('/content/drive/MyDrive/Colab Notebooks/influential_instances_conf/datasets/influential_instances_train_X.npy')\n",
        "train_y = np.load('/content/drive/MyDrive/Colab Notebooks/influential_instances_conf/datasets/influential_instances_train_y.npy')\n",
        "test_X = np.load('/content/drive/MyDrive/Colab Notebooks/influential_instances_conf/datasets/test_X.npy')\n",
        "test_y = np.load('/content/drive/MyDrive/Colab Notebooks/influential_instances_conf/datasets/test_y.npy')"
      ],
      "metadata": {
        "id": "eE-HB167hOfN"
      },
      "execution_count": null,
      "outputs": []
    },
    {
      "cell_type": "code",
      "source": [
        "model = LSTM_model(train_X, train_y, test_X, test_y)"
      ],
      "metadata": {
        "id": "pP4HIQubgOGT"
      },
      "execution_count": null,
      "outputs": []
    },
    {
      "cell_type": "markdown",
      "source": [
        "#### Model summary"
      ],
      "metadata": {
        "id": "g6C4U0qciJph"
      }
    },
    {
      "cell_type": "code",
      "source": [
        "model.summary()"
      ],
      "metadata": {
        "id": "nXa2LjLqh48U"
      },
      "execution_count": null,
      "outputs": []
    },
    {
      "cell_type": "markdown",
      "source": [
        "#### Plot model loss "
      ],
      "metadata": {
        "id": "P1MpolNriAIX"
      }
    },
    {
      "cell_type": "code",
      "source": [
        "plot_train_test_loss(model)"
      ],
      "metadata": {
        "id": "HtNQNUXKh7Tu"
      },
      "execution_count": null,
      "outputs": []
    }
  ]
}